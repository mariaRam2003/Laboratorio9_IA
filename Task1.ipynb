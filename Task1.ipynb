{
 "cells": [
  {
   "cell_type": "markdown",
   "metadata": {},
   "source": [
    "# Laboratorio 9\n",
    "## Inteligencia Artificial\n",
    "---\n",
    "**Integrantes**\n",
    "- Maria Marta Ramirez Gil\n",
    "- Gustavo Andres Gonzalez Pineda \n",
    "- Diego Alberto Leiva Pérez \n",
    "- José Pablo Orellana Orellana \n",
    "---"
   ]
  },
  {
   "cell_type": "markdown",
   "metadata": {},
   "source": [
    "#### 1. Diga cual es la diferencia entre Modelos de Markov y Hidden Markov Models\n",
    "Los Modelos de Markov son modelos estocásticos que describen una secuencia de eventos donde la probabilidad de que ocurra un evento depende únicamente del evento inmediatamente anterior. Por otro lado, los Modelos de Markov Ocultos (HMM) son una extensión de los Modelos de Markov que incluyen estados ocultos, cuyas observaciones son visibles pero cuya estructura interna no lo es, lo que los hace especialmente útiles para modelar secuencias de eventos donde las variables ocultas influyen en las observaciones.\n",
    "\n",
    "#### 2. Investigue qué son los factorial HMM (Hidden Markov Models)\n",
    "Los factorial HMM (Hidden Markov Models) son una extensión de los HMM tradicionales que permiten modelar secuencias de variables ocultas con dependencias temporales más complejas. En lugar de tener un solo conjunto de estados ocultos, los factorial HMM tienen múltiples conjuntos de estados ocultos que pueden interactuar entre sí, lo que permite modelar de manera más precisa fenómenos donde las variables ocultas tienen estructuras de dependencia más complejas.\n",
    "\n",
    "#### 3. Especifique en sus propias palabras el algoritmo Forward Backward para HMM\n",
    "El algoritmo Forward-Backward es un algoritmo utilizado para calcular la probabilidad de una secuencia de observaciones en un modelo de Markov oculto (HMM). En términos simples, el algoritmo realiza dos pasos:\n",
    "- Paso Forward: Calcula la probabilidad de observar una secuencia de observaciones hasta un punto dado en el tiempo teniendo en cuenta todos los posibles estados ocultos anteriores.\n",
    "- Paso Backward: Calcula la probabilidad de observar el resto de la secuencia de observaciones desde un punto dado en el tiempo hasta el final, teniendo en cuenta todos los posibles estados ocultos futuros.\n",
    "\n",
    "Finalmente, la probabilidad total de la secuencia de observaciones se calcula combinando los resultados del paso Forward y Backward.\n",
    "\n",
    "#### 4. En el algoritmo de Forward Backward, por qué es necesario el paso de Backward (puede escribir ejemplos o casos para responder esta pregunta)\n",
    "En el algoritmo Forward-Backward, el paso de Backward es necesario para calcular la probabilidad total de la secuencia de observaciones. Esto se debe a que, en un modelo de Markov oculto, la probabilidad de una secuencia de observaciones está influenciada no solo por los estados ocultos anteriores (como se tiene en cuenta en el paso Forward), sino también por los estados ocultos futuros. Por lo tanto, el paso de Backward calcula esta influencia de los estados ocultos futuros en la probabilidad total de la secuencia de observaciones, lo que permite una estimación más precisa de dicha probabilidad.\n"
   ]
  }
 ],
 "metadata": {
  "language_info": {
   "name": "python"
  }
 },
 "nbformat": 4,
 "nbformat_minor": 2
}
